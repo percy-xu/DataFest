{
 "cells": [
  {
   "cell_type": "code",
   "execution_count": 1,
   "metadata": {},
   "outputs": [],
   "source": [
    "import pandas as pd\n",
    "drugs_df = pd.read_csv('de.csv')"
   ]
  },
  {
   "cell_type": "code",
   "execution_count": 12,
   "metadata": {},
   "outputs": [],
   "source": [
    "from sklearn import tree\n",
    "from sklearn.neural_network import MLPClassifier\n",
    "from sklearn.model_selection import train_test_split"
   ]
  },
  {
   "cell_type": "code",
   "execution_count": 2,
   "metadata": {},
   "outputs": [],
   "source": [
    "def misuse_cat(df):\n",
    "    # make new df so old dataset is not affected\n",
    "    new_df = drugs_df.copy()\n",
    "    # get list of drug names\n",
    "    drugs = [x for x in df.columns if 'NMU' in x][:14]\n",
    "    drugs = [x.split('_')[0] for x in drugs]\n",
    "    print(drugs)\n",
    "    # make categorical variable for each drug\n",
    "    for drug in drugs:\n",
    "        new_df[f'{drug}_MISUSE'] = new_df[f'{drug}_NMU'].fillna(0)\n",
    "        new_df[f'{drug}_MISUSE'] = new_df[f'{drug}_MISUSE'].astype(int)\n",
    "    # in the returned df, each drug now has a column indicating how the correspondent uses the drug\n",
    "    # 0   -> never used\n",
    "    # 1   -> used for perscription purposes\n",
    "    # 2   -> used for recreational purposes\n",
    "    return new_df, drugs"
   ]
  },
  {
   "cell_type": "code",
   "execution_count": 3,
   "metadata": {},
   "outputs": [
    {
     "name": "stdout",
     "output_type": "stream",
     "text": [
      "['FENT', 'BUP', 'METH', 'MORPH', 'OXY', 'TRAM', 'TAP', 'SUF', 'COD', 'DIHY', 'HYDM', 'STIM', 'BENZ', 'THC']\n"
     ]
    }
   ],
   "source": [
    "drugs_df, drugs = misuse_cat(drugs_df)"
   ]
  },
  {
   "cell_type": "code",
   "execution_count": 4,
   "metadata": {},
   "outputs": [],
   "source": [
    "def misuse_total(df):\n",
    "    new_df = drugs_df.copy()\n",
    "    new_df['MIS_TOTAL'] = 0\n",
    "    for drug in drugs:\n",
    "        new_df['MIS_TOTAL'] = new_df['MIS_TOTAL'] + new_df[f'{drug}_MISUSE']\n",
    "    return new_df"
   ]
  },
  {
   "cell_type": "code",
   "execution_count": 5,
   "metadata": {},
   "outputs": [],
   "source": [
    "drugs_df = misuse_total(drugs_df)"
   ]
  },
  {
   "cell_type": "code",
   "execution_count": 6,
   "metadata": {},
   "outputs": [],
   "source": [
    "# Binary for drug misuse\n",
    "drugs_df['MIS_BIN'] = drugs_df['MIS_TOTAL']>0\n",
    "drugs_df['MIS_BIN'] = drugs_df['MIS_BIN'].astype(int)"
   ]
  },
  {
   "cell_type": "code",
   "execution_count": 7,
   "metadata": {},
   "outputs": [],
   "source": [
    "def got_pres_for_pain(df):\n",
    "    # this function returns a list indicating if a person has received prescription for pain\n",
    "    df_new = drugs_df.copy()\n",
    "    PRES_FOR_PAIN = []\n",
    "    for i in range(len(df_new)):\n",
    "        # Have the patient received prescription for chronic or acute pain?\n",
    "        PAIN_CHRONIC_RX = df_new.at[i, 'PAIN_CHRONIC_RX']\n",
    "        PAIN_ACUTE_RX = df_new.at[i, 'PAIN_ACUTE_RX']\n",
    "        PRES_FOR_PAIN.append(pd.notna(PAIN_CHRONIC_RX) or pd.notna(PAIN_ACUTE_RX))\n",
    "    return PRES_FOR_PAIN"
   ]
  },
  {
   "cell_type": "code",
   "execution_count": 8,
   "metadata": {},
   "outputs": [],
   "source": [
    "def get_illicit_use(df):\n",
    "    # this function returns a list indicating if a person has used illicit drugs in the past\n",
    "    df_new = df.copy()\n",
    "    # list all illicit drugs\n",
    "    illicit = ['CAN_USE','COKE_USE','CRACK_USE','MDMA_USE','SPEED_USE','GHB_USE','HEROIN_USE','KET_USE','LEGAL_USE','LSD_USE','MUSH_USE','STER_USE','NPFENT_USE','INH_USE','MEPH_USE']\n",
    "    ILLICIT_USE = []\n",
    "    for i in range(len(df_new)):\n",
    "        illicit_use = 0\n",
    "        for drug in illicit:\n",
    "            if df_new.at[i, drug] != 1:\n",
    "                illicit_use = 1\n",
    "                break\n",
    "        ILLICIT_USE.append(illicit_use)\n",
    "    return ILLICIT_USE"
   ]
  },
  {
   "cell_type": "code",
   "execution_count": 9,
   "metadata": {},
   "outputs": [],
   "source": [
    "def get_mental_condition(df):\n",
    "    # this function returns a list indicating if a person has mental conditions\n",
    "    df_new = df.copy()\n",
    "    MENTAL_COND = []\n",
    "    for i in range(len(df_new)):\n",
    "        if df_new.at[i, 'MENT_NONE'] == 1:\n",
    "            MENTAL_COND.append(0)\n",
    "        else:\n",
    "            MENTAL_COND.append(1)\n",
    "    return MENTAL_COND"
   ]
  },
  {
   "cell_type": "code",
   "execution_count": 10,
   "metadata": {},
   "outputs": [],
   "source": [
    "drugs_df['ILL_USE'] = get_illicit_use(drugs_df)\n",
    "drugs_df['MENTAL'] = get_mental_condition(drugs_df)\n",
    "drugs_df['PAIN_BIN'] = got_pres_for_pain(drugs_df)"
   ]
  },
  {
   "cell_type": "code",
   "execution_count": 35,
   "metadata": {},
   "outputs": [],
   "source": [
    "X_var_list = drugs_df.columns.tolist()\n",
    "remove_list = ['MIS_BIN', 'MIS_TOTAL', 'DATE', 'START_DATE']\n",
    "for name in remove_list:\n",
    "    X_var_list.remove(name)"
   ]
  },
  {
   "cell_type": "code",
   "execution_count": 36,
   "metadata": {},
   "outputs": [],
   "source": [
    "df = drugs_df.fillna(0)"
   ]
  },
  {
   "cell_type": "code",
   "execution_count": 37,
   "metadata": {},
   "outputs": [],
   "source": [
    "clf = tree.DecisionTreeClassifier()\n",
    "tree_table = {}\n",
    "\n",
    "for X_variable in X_var_list:\n",
    "    y = df['MIS_BIN']\n",
    "    X_list = [X_variable, 'STATUS']\n",
    "    X = df[X_list]\n",
    "    X_train, X_test, y_train, y_test = train_test_split(X, y, test_size=.4, random_state=42)\n",
    "    \n",
    "    clf = clf.fit(X_train, y_train)\n",
    "\n",
    "    X_test_predict = clf.predict(X_test)\n",
    "    accuracy = sum(y_test == X_test_predict)/len(X_test)\n",
    "    tree_table[X_variable] = accuracy"
   ]
  },
  {
   "cell_type": "code",
   "execution_count": 40,
   "metadata": {},
   "outputs": [],
   "source": [
    "high_tree = {}\n",
    "for key in tree_table:\n",
    "    if tree_table[key] >= 0.8:\n",
    "        high_tree[key] = tree_table[key]"
   ]
  },
  {
   "cell_type": "code",
   "execution_count": 41,
   "metadata": {},
   "outputs": [
    {
     "data": {
      "text/plain": [
       "{'FENT_NMU': 0.8119913635608703,\n",
       " 'TRAM_NMU': 0.8030227536953994,\n",
       " 'COD_NMU': 0.9302441454907823,\n",
       " 'BENZ_NMU': 0.8026905829596412,\n",
       " 'OP_NMU_EVER': 0.9659524995847866,\n",
       " 'BENZ_NMU_EVER': 0.8026905829596412,\n",
       " 'OP_NMU_YR': 0.8868958644743398,\n",
       " 'OP_NMU_NTY': 0.8388971931572828,\n",
       " 'OP_NMU_MNTH': 0.822454741737253,\n",
       " 'OP_NMU_WK': 0.8099983391463212,\n",
       " 'COD_NMU_NTY': 0.8216243148978575,\n",
       " 'FENT_MISUSE': 0.8119913635608703,\n",
       " 'TRAM_MISUSE': 0.8030227536953994,\n",
       " 'COD_MISUSE': 0.9302441454907823,\n",
       " 'BENZ_MISUSE': 0.8026905829596412}"
      ]
     },
     "execution_count": 41,
     "metadata": {},
     "output_type": "execute_result"
    }
   ],
   "source": [
    "high_tree"
   ]
  },
  {
   "cell_type": "code",
   "execution_count": null,
   "metadata": {},
   "outputs": [],
   "source": []
  }
 ],
 "metadata": {
  "kernelspec": {
   "display_name": "Python 3",
   "language": "python",
   "name": "python3"
  },
  "language_info": {
   "codemirror_mode": {
    "name": "ipython",
    "version": 3
   },
   "file_extension": ".py",
   "mimetype": "text/x-python",
   "name": "python",
   "nbconvert_exporter": "python",
   "pygments_lexer": "ipython3",
   "version": "3.8.5"
  }
 },
 "nbformat": 4,
 "nbformat_minor": 4
}

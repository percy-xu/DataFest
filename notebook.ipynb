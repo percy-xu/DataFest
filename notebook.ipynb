{
 "metadata": {
  "language_info": {
   "codemirror_mode": {
    "name": "ipython",
    "version": 3
   },
   "file_extension": ".py",
   "mimetype": "text/x-python",
   "name": "python",
   "nbconvert_exporter": "python",
   "pygments_lexer": "ipython3",
   "version": "3.8.5-final"
  },
  "orig_nbformat": 2,
  "kernelspec": {
   "name": "python385jvsc74a57bd06e6f7603a0f222095c70729fb7e573f6543910ef3182ccf7976686bfcf8a95e3",
   "display_name": "Python 3.8.5 64-bit (conda)"
  }
 },
 "nbformat": 4,
 "nbformat_minor": 2,
 "cells": [
  {
   "cell_type": "code",
   "execution_count": 1,
   "metadata": {},
   "outputs": [],
   "source": [
    "import pandas as pd\n",
    "import plotly.express as px"
   ]
  },
  {
   "cell_type": "code",
   "execution_count": 2,
   "metadata": {},
   "outputs": [],
   "source": [
    "df_de = pd.read_csv('D:\\\\OneDrive\\\\Vassar\\\\DataFest\\\\data\\\\DE\\\\de.csv', parse_dates=['DATE'])"
   ]
  },
  {
   "cell_type": "code",
   "execution_count": 3,
   "metadata": {},
   "outputs": [],
   "source": [
    "def get_use_cat(df):\n",
    "    # make new df so old dataset is not affected\n",
    "    new_df = df.copy()\n",
    "    # get list of drug names\n",
    "    drugs = [x for x in df_de.columns if 'NMU' in x][:14]\n",
    "    drugs = [x.split('_')[0] for x in drugs]\n",
    "    # make categorical variable for each drug\n",
    "    for drug in drugs:\n",
    "        new_df[f'{drug}_USE_CAT'] = new_df[f'{drug}_USE'] + new_df[f'{drug}_NMU']\n",
    "    # in the returned df, each drug now has a column indicating how the correspondent uses the drug\n",
    "    # nan -> never used\n",
    "    # 1   -> used for perscription purposes\n",
    "    # 2   -> used for recreational purposes\n",
    "    return new_df"
   ]
  },
  {
   "cell_type": "code",
   "execution_count": 4,
   "metadata": {},
   "outputs": [],
   "source": [
    "df_use = get_use_cat(df_de)"
   ]
  },
  {
   "cell_type": "code",
   "execution_count": 10,
   "metadata": {},
   "outputs": [
    {
     "output_type": "execute_result",
     "data": {
      "text/plain": [
       "                 DATE  STATUS  QLANG  DEM_GENDER  DEM_AGE  DEM_LOCATION  \\\n",
       "0 2018-01-12 08:08:01       3      2           1       21             1   \n",
       "1 2018-01-14 08:08:30       3      2           1       24             1   \n",
       "2 2018-01-14 07:31:08       3      2           1       19             1   \n",
       "3 2018-01-13 04:25:19       3      2           1       19             1   \n",
       "4 2018-01-14 12:58:09       3      2           1       20             1   \n",
       "\n",
       "   DEM_POSTAL  DEM_STDNT  DEM_VET  DEM_HEALTH  ...  OXY_USE_CAT  TRAM_USE_CAT  \\\n",
       "0         786          0        1           0  ...          NaN           NaN   \n",
       "1         797          1        0           1  ...          2.0           1.0   \n",
       "2         717          0        0           0  ...          NaN           NaN   \n",
       "3         891          0        1           0  ...          NaN           NaN   \n",
       "4         791          1        0           0  ...          NaN           NaN   \n",
       "\n",
       "   TAP_USE_CAT  SUF_USE_CAT  COD_USE_CAT  DIHY_USE_CAT  HYDM_USE_CAT  \\\n",
       "0          NaN          NaN          NaN           NaN           NaN   \n",
       "1          1.0          1.0          2.0           1.0           NaN   \n",
       "2          NaN          NaN          NaN           NaN           NaN   \n",
       "3          NaN          NaN          NaN           NaN           NaN   \n",
       "4          NaN          NaN          NaN           NaN           NaN   \n",
       "\n",
       "   STIM_USE_CAT  BENZ_USE_CAT  THC_USE_CAT  \n",
       "0           NaN           NaN          1.0  \n",
       "1           1.0           NaN          NaN  \n",
       "2           NaN           NaN          NaN  \n",
       "3           NaN           NaN          NaN  \n",
       "4           NaN           NaN          NaN  \n",
       "\n",
       "[5 rows x 170 columns]"
      ],
      "text/html": "<div>\n<style scoped>\n    .dataframe tbody tr th:only-of-type {\n        vertical-align: middle;\n    }\n\n    .dataframe tbody tr th {\n        vertical-align: top;\n    }\n\n    .dataframe thead th {\n        text-align: right;\n    }\n</style>\n<table border=\"1\" class=\"dataframe\">\n  <thead>\n    <tr style=\"text-align: right;\">\n      <th></th>\n      <th>DATE</th>\n      <th>STATUS</th>\n      <th>QLANG</th>\n      <th>DEM_GENDER</th>\n      <th>DEM_AGE</th>\n      <th>DEM_LOCATION</th>\n      <th>DEM_POSTAL</th>\n      <th>DEM_STDNT</th>\n      <th>DEM_VET</th>\n      <th>DEM_HEALTH</th>\n      <th>...</th>\n      <th>OXY_USE_CAT</th>\n      <th>TRAM_USE_CAT</th>\n      <th>TAP_USE_CAT</th>\n      <th>SUF_USE_CAT</th>\n      <th>COD_USE_CAT</th>\n      <th>DIHY_USE_CAT</th>\n      <th>HYDM_USE_CAT</th>\n      <th>STIM_USE_CAT</th>\n      <th>BENZ_USE_CAT</th>\n      <th>THC_USE_CAT</th>\n    </tr>\n  </thead>\n  <tbody>\n    <tr>\n      <th>0</th>\n      <td>2018-01-12 08:08:01</td>\n      <td>3</td>\n      <td>2</td>\n      <td>1</td>\n      <td>21</td>\n      <td>1</td>\n      <td>786</td>\n      <td>0</td>\n      <td>1</td>\n      <td>0</td>\n      <td>...</td>\n      <td>NaN</td>\n      <td>NaN</td>\n      <td>NaN</td>\n      <td>NaN</td>\n      <td>NaN</td>\n      <td>NaN</td>\n      <td>NaN</td>\n      <td>NaN</td>\n      <td>NaN</td>\n      <td>1.0</td>\n    </tr>\n    <tr>\n      <th>1</th>\n      <td>2018-01-14 08:08:30</td>\n      <td>3</td>\n      <td>2</td>\n      <td>1</td>\n      <td>24</td>\n      <td>1</td>\n      <td>797</td>\n      <td>1</td>\n      <td>0</td>\n      <td>1</td>\n      <td>...</td>\n      <td>2.0</td>\n      <td>1.0</td>\n      <td>1.0</td>\n      <td>1.0</td>\n      <td>2.0</td>\n      <td>1.0</td>\n      <td>NaN</td>\n      <td>1.0</td>\n      <td>NaN</td>\n      <td>NaN</td>\n    </tr>\n    <tr>\n      <th>2</th>\n      <td>2018-01-14 07:31:08</td>\n      <td>3</td>\n      <td>2</td>\n      <td>1</td>\n      <td>19</td>\n      <td>1</td>\n      <td>717</td>\n      <td>0</td>\n      <td>0</td>\n      <td>0</td>\n      <td>...</td>\n      <td>NaN</td>\n      <td>NaN</td>\n      <td>NaN</td>\n      <td>NaN</td>\n      <td>NaN</td>\n      <td>NaN</td>\n      <td>NaN</td>\n      <td>NaN</td>\n      <td>NaN</td>\n      <td>NaN</td>\n    </tr>\n    <tr>\n      <th>3</th>\n      <td>2018-01-13 04:25:19</td>\n      <td>3</td>\n      <td>2</td>\n      <td>1</td>\n      <td>19</td>\n      <td>1</td>\n      <td>891</td>\n      <td>0</td>\n      <td>1</td>\n      <td>0</td>\n      <td>...</td>\n      <td>NaN</td>\n      <td>NaN</td>\n      <td>NaN</td>\n      <td>NaN</td>\n      <td>NaN</td>\n      <td>NaN</td>\n      <td>NaN</td>\n      <td>NaN</td>\n      <td>NaN</td>\n      <td>NaN</td>\n    </tr>\n    <tr>\n      <th>4</th>\n      <td>2018-01-14 12:58:09</td>\n      <td>3</td>\n      <td>2</td>\n      <td>1</td>\n      <td>20</td>\n      <td>1</td>\n      <td>791</td>\n      <td>1</td>\n      <td>0</td>\n      <td>0</td>\n      <td>...</td>\n      <td>NaN</td>\n      <td>NaN</td>\n      <td>NaN</td>\n      <td>NaN</td>\n      <td>NaN</td>\n      <td>NaN</td>\n      <td>NaN</td>\n      <td>NaN</td>\n      <td>NaN</td>\n      <td>NaN</td>\n    </tr>\n  </tbody>\n</table>\n<p>5 rows × 170 columns</p>\n</div>"
     },
     "metadata": {},
     "execution_count": 10
    }
   ],
   "source": [
    "df_use.head()"
   ]
  },
  {
   "cell_type": "code",
   "execution_count": null,
   "metadata": {},
   "outputs": [],
   "source": []
  }
 ]
}
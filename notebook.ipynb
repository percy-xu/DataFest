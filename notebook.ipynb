{
 "metadata": {
  "language_info": {
   "codemirror_mode": {
    "name": "ipython",
    "version": 3
   },
   "file_extension": ".py",
   "mimetype": "text/x-python",
   "name": "python",
   "nbconvert_exporter": "python",
   "pygments_lexer": "ipython3",
   "version": "3.8.5-final"
  },
  "orig_nbformat": 2,
  "kernelspec": {
   "name": "python385jvsc74a57bd06e6f7603a0f222095c70729fb7e573f6543910ef3182ccf7976686bfcf8a95e3",
   "display_name": "Python 3.8.5 64-bit (conda)"
  }
 },
 "nbformat": 4,
 "nbformat_minor": 2,
 "cells": [
  {
   "cell_type": "code",
   "execution_count": 16,
   "metadata": {},
   "outputs": [],
   "source": [
    "import pandas as pd\n",
    "import numpy as np\n",
    "import plotly.express as px"
   ]
  },
  {
   "cell_type": "code",
   "execution_count": 17,
   "metadata": {},
   "outputs": [],
   "source": [
    "df_de = pd.read_csv('D:\\\\OneDrive\\\\Vassar\\\\DataFest\\\\data\\\\DE\\\\de.csv', parse_dates=['DATE'])"
   ]
  },
  {
   "cell_type": "code",
   "execution_count": 18,
   "metadata": {},
   "outputs": [],
   "source": [
    "def get_drug_names(df):\n",
    "    # returns a list of drug names for convenience\n",
    "    drugs = [x for x in df.columns if 'NMU' in x][:14]\n",
    "    drugs = [x.split('_')[0] for x in drugs]\n",
    "    return drugs"
   ]
  },
  {
   "cell_type": "code",
   "execution_count": 19,
   "metadata": {},
   "outputs": [],
   "source": [
    "def get_use_cat(df):\n",
    "    # make new df so old dataset is not affected\n",
    "    new_df = df.copy()\n",
    "    # get list of drug names\n",
    "    drugs = get_drug_names(df)\n",
    "    # make categorical variable for each drug\n",
    "    for drug in drugs:\n",
    "        new_df[f'{drug}_USE_CAT'] = new_df[f'{drug}_USE'] + new_df[f'{drug}_NMU']\n",
    "        new_df[f'{drug}_USE_CAT'].fillna(value=0, inplace=True)\n",
    "    # in the returned df, each drug now has a column indicating how the correspondent uses the drug\n",
    "    # 0 -> never used\n",
    "    # 1 -> used for prescription purposes\n",
    "    # 2 -> used for recreational purposes\n",
    "    return new_df"
   ]
  },
  {
   "cell_type": "code",
   "execution_count": 20,
   "metadata": {},
   "outputs": [],
   "source": [
    "def calculate_proportions(df):\n",
    "    new_df = get_use_cat(df)\n",
    "    drugs = get_drug_names(df)\n",
    "    # empty dict to insert values\n",
    "    d = {}\n",
    "    # for each drug, get proportions of recreational use\n",
    "    for drug in drugs:\n",
    "        # get number of people for prescription and recreational purposes\n",
    "        num_pre = new_df[f'{drug}_USE_CAT'].value_counts().loc[1.0]\n",
    "        num_rec = new_df[f'{drug}_USE_CAT'].value_counts().loc[2.0]\n",
    "        # get percentage of recreational usage\n",
    "        percentage = num_rec / (num_pre + num_rec)\n",
    "        # insert into dictionary\n",
    "        d[drug] = percentage\n",
    "    return d"
   ]
  },
  {
   "cell_type": "code",
   "execution_count": 21,
   "metadata": {},
   "outputs": [],
   "source": [
    "def get_pres_predictors(df):\n",
    "    # returns a df with columns containing prescripted drug use category\n",
    "    df_use = get_use_cat(df)\n",
    "    drugs = get_drug_names(df)\n",
    "    pred_cols = [x+'_USE_CAT' for x in drugs]\n",
    "    return df_use[pred_cols]"
   ]
  },
  {
   "cell_type": "code",
   "execution_count": 22,
   "metadata": {},
   "outputs": [],
   "source": [
    "from sklearn.model_selection import train_test_split\n",
    "from sklearn.tree import DecisionTreeClassifier\n",
    "from sklearn.model_selection import cross_val_score"
   ]
  },
  {
   "cell_type": "code",
   "execution_count": 37,
   "metadata": {},
   "outputs": [],
   "source": [
    "def decision_tree(df):\n",
    "    X_pres = get_pres_predictors(df_de)\n",
    "    y = df['DAST_CAT']\n",
    "    # split into train and test\n",
    "    X_train, X_test, y_train, y_test = train_test_split(X_pres, y, test_size=0.33, random_state=42)\n",
    "    # train model\n",
    "    decision_tree = DecisionTreeClassifier(random_state=42, max_depth=2)\n",
    "    decision_tree = decision_tree.fit(X_train, y_train)\n",
    "    # add cross-validation???\n",
    "    cv_score = cross_val_score(decision_tree, X_train, y_train, cv=10).mean()\n",
    "    print(f'CV-Score: {round(cv_score*100, 4)}%')\n",
    "    # check perdformance in test set\n",
    "    df_prediction = pd.DataFrame()\n",
    "    df_prediction['Predicted'], df_prediction['Actual'] = decision_tree.predict(X_test), y_test.values\n",
    "    df_prediction = df_prediction.assign(Correct = df_prediction['Predicted'] == df_prediction['Actual'])\n",
    "    # calculate accuracy in test set\n",
    "    acc = df_prediction['Correct'].value_counts()[True] / len(df_prediction)\n",
    "    print(f'Accuracy: {round(acc*100, 4)}%')"
   ]
  },
  {
   "cell_type": "code",
   "execution_count": 38,
   "metadata": {},
   "outputs": [
    {
     "output_type": "stream",
     "name": "stdout",
     "text": [
      "CV-Score: 52.6673%\nAccuracy: 53.4931%\n"
     ]
    }
   ],
   "source": [
    "decision_tree(df_de)"
   ]
  },
  {
   "cell_type": "code",
   "execution_count": null,
   "metadata": {},
   "outputs": [],
   "source": []
  }
 ]
}
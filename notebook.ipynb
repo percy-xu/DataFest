{
 "metadata": {
  "language_info": {
   "codemirror_mode": {
    "name": "ipython",
    "version": 3
   },
   "file_extension": ".py",
   "mimetype": "text/x-python",
   "name": "python",
   "nbconvert_exporter": "python",
   "pygments_lexer": "ipython3",
   "version": "3.8.5-final"
  },
  "orig_nbformat": 2,
  "kernelspec": {
   "name": "python385jvsc74a57bd06e6f7603a0f222095c70729fb7e573f6543910ef3182ccf7976686bfcf8a95e3",
   "display_name": "Python 3.8.5 64-bit (conda)"
  }
 },
 "nbformat": 4,
 "nbformat_minor": 2,
 "cells": [
  {
   "cell_type": "code",
   "execution_count": 1,
   "metadata": {},
   "outputs": [],
   "source": [
    "import pandas as pd\n",
    "import plotly.express as px"
   ]
  },
  {
   "cell_type": "code",
   "execution_count": 2,
   "metadata": {},
   "outputs": [],
   "source": [
    "df_de = pd.read_csv('D:\\\\OneDrive\\\\Vassar\\\\DataFest\\\\data\\\\DE\\\\de.csv', parse_dates=['DATE'])"
   ]
  },
  {
   "cell_type": "code",
   "execution_count": 3,
   "metadata": {},
   "outputs": [],
   "source": [
    "def get_use_cat(df):\n",
    "    # make new df so old dataset is not affected\n",
    "    new_df = df.copy()\n",
    "    # get list of drug names\n",
    "    drugs = [x for x in df_de.columns if 'NMU' in x][:14]\n",
    "    drugs = [x.split('_')[0] for x in drugs]\n",
    "    # make categorical variable for each drug\n",
    "    for drug in drugs:\n",
    "        new_df[f'{drug}_USE_CAT'] = new_df[f'{drug}_USE'] + new_df[f'{drug}_NMU']\n",
    "    # in the returned df, each drug now has a column indicating how the correspondent uses the drug\n",
    "    # nan -> never used\n",
    "    # 1   -> used for perscription purposes\n",
    "    # 2   -> used for recreational purposes\n",
    "    return new_df"
   ]
  },
  {
   "cell_type": "code",
   "execution_count": 4,
   "metadata": {},
   "outputs": [],
   "source": [
    "df_use = get_use_cat(df_de)"
   ]
  },
  {
   "cell_type": "code",
   "execution_count": null,
   "metadata": {},
   "outputs": [],
   "source": []
  }
 ]
}
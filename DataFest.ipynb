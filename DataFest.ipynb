{
 "cells": [
  {
   "cell_type": "code",
   "execution_count": 61,
   "metadata": {},
   "outputs": [],
   "source": [
    "import pandas as pd"
   ]
  },
  {
   "cell_type": "code",
   "execution_count": 62,
   "metadata": {},
   "outputs": [],
   "source": [
    "drugs_df = pd.read_csv('de.csv')"
   ]
  },
  {
   "cell_type": "code",
   "execution_count": 63,
   "metadata": {},
   "outputs": [
    {
     "data": {
      "text/html": [
       "<div>\n",
       "<style scoped>\n",
       "    .dataframe tbody tr th:only-of-type {\n",
       "        vertical-align: middle;\n",
       "    }\n",
       "\n",
       "    .dataframe tbody tr th {\n",
       "        vertical-align: top;\n",
       "    }\n",
       "\n",
       "    .dataframe thead th {\n",
       "        text-align: right;\n",
       "    }\n",
       "</style>\n",
       "<table border=\"1\" class=\"dataframe\">\n",
       "  <thead>\n",
       "    <tr style=\"text-align: right;\">\n",
       "      <th></th>\n",
       "      <th>DATE</th>\n",
       "      <th>STATUS</th>\n",
       "      <th>QLANG</th>\n",
       "      <th>DEM_GENDER</th>\n",
       "      <th>DEM_AGE</th>\n",
       "      <th>DEM_LOCATION</th>\n",
       "      <th>DEM_POSTAL</th>\n",
       "      <th>DEM_STDNT</th>\n",
       "      <th>DEM_VET</th>\n",
       "      <th>DEM_HEALTH</th>\n",
       "      <th>...</th>\n",
       "      <th>COD_NMU_NTY</th>\n",
       "      <th>DIHY_NMU_NTY</th>\n",
       "      <th>FENT_NMU_NTY</th>\n",
       "      <th>HYDM_NMU_NTY</th>\n",
       "      <th>METH_NMU_NTY</th>\n",
       "      <th>MORPH_NMU_NTY</th>\n",
       "      <th>OXY_NMU_NTY</th>\n",
       "      <th>SUF_NMU_NTY</th>\n",
       "      <th>TAP_NMU_NTY</th>\n",
       "      <th>TRAM_NMU_NTY</th>\n",
       "    </tr>\n",
       "  </thead>\n",
       "  <tbody>\n",
       "    <tr>\n",
       "      <th>0</th>\n",
       "      <td>2018-01-12 08:08:01</td>\n",
       "      <td>3</td>\n",
       "      <td>2</td>\n",
       "      <td>1</td>\n",
       "      <td>21</td>\n",
       "      <td>1</td>\n",
       "      <td>786</td>\n",
       "      <td>0</td>\n",
       "      <td>1</td>\n",
       "      <td>0</td>\n",
       "      <td>...</td>\n",
       "      <td>0</td>\n",
       "      <td>0</td>\n",
       "      <td>0</td>\n",
       "      <td>0</td>\n",
       "      <td>0</td>\n",
       "      <td>0</td>\n",
       "      <td>0</td>\n",
       "      <td>0</td>\n",
       "      <td>0</td>\n",
       "      <td>0</td>\n",
       "    </tr>\n",
       "    <tr>\n",
       "      <th>1</th>\n",
       "      <td>2018-01-14 08:08:30</td>\n",
       "      <td>3</td>\n",
       "      <td>2</td>\n",
       "      <td>1</td>\n",
       "      <td>24</td>\n",
       "      <td>1</td>\n",
       "      <td>797</td>\n",
       "      <td>1</td>\n",
       "      <td>0</td>\n",
       "      <td>1</td>\n",
       "      <td>...</td>\n",
       "      <td>0</td>\n",
       "      <td>0</td>\n",
       "      <td>0</td>\n",
       "      <td>0</td>\n",
       "      <td>0</td>\n",
       "      <td>0</td>\n",
       "      <td>0</td>\n",
       "      <td>0</td>\n",
       "      <td>0</td>\n",
       "      <td>0</td>\n",
       "    </tr>\n",
       "    <tr>\n",
       "      <th>2</th>\n",
       "      <td>2018-01-14 07:31:08</td>\n",
       "      <td>3</td>\n",
       "      <td>2</td>\n",
       "      <td>1</td>\n",
       "      <td>19</td>\n",
       "      <td>1</td>\n",
       "      <td>717</td>\n",
       "      <td>0</td>\n",
       "      <td>0</td>\n",
       "      <td>0</td>\n",
       "      <td>...</td>\n",
       "      <td>0</td>\n",
       "      <td>0</td>\n",
       "      <td>0</td>\n",
       "      <td>0</td>\n",
       "      <td>0</td>\n",
       "      <td>0</td>\n",
       "      <td>0</td>\n",
       "      <td>0</td>\n",
       "      <td>0</td>\n",
       "      <td>0</td>\n",
       "    </tr>\n",
       "  </tbody>\n",
       "</table>\n",
       "<p>3 rows × 156 columns</p>\n",
       "</div>"
      ],
      "text/plain": [
       "                  DATE  STATUS  QLANG  DEM_GENDER  DEM_AGE  DEM_LOCATION  \\\n",
       "0  2018-01-12 08:08:01       3      2           1       21             1   \n",
       "1  2018-01-14 08:08:30       3      2           1       24             1   \n",
       "2  2018-01-14 07:31:08       3      2           1       19             1   \n",
       "\n",
       "   DEM_POSTAL  DEM_STDNT  DEM_VET  DEM_HEALTH  ...  COD_NMU_NTY  DIHY_NMU_NTY  \\\n",
       "0         786          0        1           0  ...            0             0   \n",
       "1         797          1        0           1  ...            0             0   \n",
       "2         717          0        0           0  ...            0             0   \n",
       "\n",
       "   FENT_NMU_NTY  HYDM_NMU_NTY  METH_NMU_NTY  MORPH_NMU_NTY  OXY_NMU_NTY  \\\n",
       "0             0             0             0              0            0   \n",
       "1             0             0             0              0            0   \n",
       "2             0             0             0              0            0   \n",
       "\n",
       "   SUF_NMU_NTY  TAP_NMU_NTY  TRAM_NMU_NTY  \n",
       "0            0            0             0  \n",
       "1            0            0             0  \n",
       "2            0            0             0  \n",
       "\n",
       "[3 rows x 156 columns]"
      ]
     },
     "execution_count": 63,
     "metadata": {},
     "output_type": "execute_result"
    }
   ],
   "source": [
    "drugs_df[:3]"
   ]
  },
  {
   "cell_type": "code",
   "execution_count": 64,
   "metadata": {},
   "outputs": [],
   "source": [
    "def get_use_cat(df):\n",
    "    # make new df so old dataset is not affected\n",
    "    new_df = drugs_df.copy()\n",
    "    # get list of drug names\n",
    "    drugs = [x for x in df.columns if 'NMU' in x][:14]\n",
    "    drugs = [x.split('_')[0] for x in drugs]\n",
    "    print(drugs)\n",
    "    # make categorical variable for each drug\n",
    "    for drug in drugs:\n",
    "        new_df[f'{drug}_USE_CAT'] = new_df[f'{drug}_USE'] + new_df[f'{drug}_NMU'].fillna(0)\n",
    "        new_df[f'{drug}_USE_CAT'] = new_df[f'{drug}_USE_CAT'].astype(int)\n",
    "    # in the returned df, each drug now has a column indicating how the correspondent uses the drug\n",
    "    # 0   -> never used\n",
    "    # 1   -> used for perscription purposes\n",
    "    # 2   -> used for recreational purposes\n",
    "    return new_df"
   ]
  },
  {
   "cell_type": "code",
   "execution_count": 65,
   "metadata": {},
   "outputs": [
    {
     "name": "stdout",
     "output_type": "stream",
     "text": [
      "['FENT', 'BUP', 'METH', 'MORPH', 'OXY', 'TRAM', 'TAP', 'SUF', 'COD', 'DIHY', 'HYDM', 'STIM', 'BENZ', 'THC']\n"
     ]
    }
   ],
   "source": [
    "drugs_df = get_use_cat(drugs_df)"
   ]
  },
  {
   "cell_type": "code",
   "execution_count": 78,
   "metadata": {},
   "outputs": [],
   "source": [
    "from sklearn import tree\n",
    "from sklearn.neural_network import MLPClassifier\n",
    "from sklearn.model_selection import train_test_split"
   ]
  },
  {
   "cell_type": "code",
   "execution_count": 72,
   "metadata": {},
   "outputs": [],
   "source": [
    "y_variable = 'DAST_CAT'\n",
    "X_variables = ['MENT_ANX', 'MENT_ADHD', 'MENT_AUT', 'MENT_BIP', 'MENT_BPD', 'MENT_DEP', 'MENT_EAT', 'MENT_OCD', \n",
    "               'MENT_PANIC', 'MENT_PPD', 'MENT_PTSD', 'MENT_SCH', 'MENT_OTH', 'MENT_NONE', 'TRAM_USE_CAT', 'OXY_USE_CAT', 'FENT_USE_CAT', 'BUP_USE_CAT', 'METH_USE_CAT', 'MORPH_USE_CAT',\n",
    "       'TAP_USE_CAT', 'SUF_USE_CAT', 'COD_USE_CAT', 'DIHY_USE_CAT', 'HYDM_USE_CAT', 'STIM_USE_CAT',\n",
    "       'BENZ_USE_CAT']"
   ]
  },
  {
   "cell_type": "code",
   "execution_count": 73,
   "metadata": {},
   "outputs": [],
   "source": [
    "y = drugs_df[y_variable]\n",
    "X = drugs_df[X_variables]\n",
    "X_train, X_test, y_train, y_test = train_test_split(X, y, test_size=.4, random_state=42)"
   ]
  },
  {
   "cell_type": "code",
   "execution_count": 74,
   "metadata": {},
   "outputs": [],
   "source": [
    "clf = tree.DecisionTreeClassifier()\n",
    "clf = clf.fit(X_train, y_train)"
   ]
  },
  {
   "cell_type": "code",
   "execution_count": 75,
   "metadata": {},
   "outputs": [
    {
     "data": {
      "text/plain": [
       "0.624031007751938"
      ]
     },
     "execution_count": 75,
     "metadata": {},
     "output_type": "execute_result"
    }
   ],
   "source": [
    "# Accuracy of the Training set\n",
    "X_train_predict = clf.predict(X_train)\n",
    "sum(y_train == X_train_predict)/len(X_train)"
   ]
  },
  {
   "cell_type": "code",
   "execution_count": 76,
   "metadata": {},
   "outputs": [
    {
     "data": {
      "text/plain": [
       "0.519348945357914"
      ]
     },
     "execution_count": 76,
     "metadata": {},
     "output_type": "execute_result"
    }
   ],
   "source": [
    "# Accuracy of the Testing set\n",
    "X_test_predict = clf.predict(X_test)\n",
    "sum(y_test == X_test_predict)/len(X_test)"
   ]
  },
  {
   "cell_type": "code",
   "execution_count": 79,
   "metadata": {},
   "outputs": [
    {
     "name": "stderr",
     "output_type": "stream",
     "text": [
      "/Users/yitongwu/.local/lib/python3.8/site-packages/sklearn/neural_network/_multilayer_perceptron.py:470: ConvergenceWarning: lbfgs failed to converge (status=1):\n",
      "STOP: TOTAL NO. of ITERATIONS REACHED LIMIT.\n",
      "\n",
      "Increase the number of iterations (max_iter) or scale the data as shown in:\n",
      "    https://scikit-learn.org/stable/modules/preprocessing.html\n",
      "  self.n_iter_ = _check_optimize_result(\"lbfgs\", opt_res, self.max_iter)\n"
     ]
    },
    {
     "data": {
      "text/plain": [
       "MLPClassifier(activation='relu', alpha=1e-05, batch_size='auto', beta_1=0.9,\n",
       "              beta_2=0.999, early_stopping=False, epsilon=1e-08,\n",
       "              hidden_layer_sizes=(10, 3), learning_rate='constant',\n",
       "              learning_rate_init=0.001, max_fun=15000, max_iter=200,\n",
       "              momentum=0.9, n_iter_no_change=10, nesterovs_momentum=True,\n",
       "              power_t=0.5, random_state=1, shuffle=True, solver='lbfgs',\n",
       "              tol=0.0001, validation_fraction=0.1, verbose=False,\n",
       "              warm_start=False)"
      ]
     },
     "execution_count": 79,
     "metadata": {},
     "output_type": "execute_result"
    }
   ],
   "source": [
    "# Neural Network\n",
    "clf_nn = MLPClassifier(solver='lbfgs', alpha=1e-5, hidden_layer_sizes=(10, 3), random_state=1)\n",
    "clf_nn.fit(X_train, y_train)"
   ]
  },
  {
   "cell_type": "code",
   "execution_count": 80,
   "metadata": {},
   "outputs": [
    {
     "data": {
      "text/plain": [
       "0.5532668881506091"
      ]
     },
     "execution_count": 80,
     "metadata": {},
     "output_type": "execute_result"
    }
   ],
   "source": [
    "# Accuracy of the Training set\n",
    "X_train_predict_nn = clf_nn.predict(X_train)\n",
    "sum(y_train == X_train_predict_nn)/len(X_train)"
   ]
  },
  {
   "cell_type": "code",
   "execution_count": 81,
   "metadata": {},
   "outputs": [
    {
     "data": {
      "text/plain": [
       "0.5301444942700548"
      ]
     },
     "execution_count": 81,
     "metadata": {},
     "output_type": "execute_result"
    }
   ],
   "source": [
    "# Accuracy of the Testing set\n",
    "X_test_predict_nn = clf_nn.predict(X_test)\n",
    "sum(y_test == X_test_predict_nn)/len(X_test)"
   ]
  },
  {
   "cell_type": "code",
   "execution_count": null,
   "metadata": {},
   "outputs": [],
   "source": []
  }
 ],
 "metadata": {
  "kernelspec": {
   "display_name": "Python 3",
   "language": "python",
   "name": "python3"
  },
  "language_info": {
   "codemirror_mode": {
    "name": "ipython",
    "version": 3
   },
   "file_extension": ".py",
   "mimetype": "text/x-python",
   "name": "python",
   "nbconvert_exporter": "python",
   "pygments_lexer": "ipython3",
   "version": "3.8.5"
  }
 },
 "nbformat": 4,
 "nbformat_minor": 4
}

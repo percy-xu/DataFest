{
 "cells": [
  {
   "cell_type": "code",
   "execution_count": 1,
   "metadata": {},
   "outputs": [],
   "source": [
    "import pandas as pd"
   ]
  },
  {
   "cell_type": "code",
   "execution_count": 2,
   "metadata": {},
   "outputs": [],
   "source": [
    "drugs_df = pd.read_csv('de.csv')"
   ]
  },
  {
   "cell_type": "code",
   "execution_count": 3,
   "metadata": {
    "scrolled": true
   },
   "outputs": [
    {
     "data": {
      "text/html": [
       "<div>\n",
       "<style scoped>\n",
       "    .dataframe tbody tr th:only-of-type {\n",
       "        vertical-align: middle;\n",
       "    }\n",
       "\n",
       "    .dataframe tbody tr th {\n",
       "        vertical-align: top;\n",
       "    }\n",
       "\n",
       "    .dataframe thead th {\n",
       "        text-align: right;\n",
       "    }\n",
       "</style>\n",
       "<table border=\"1\" class=\"dataframe\">\n",
       "  <thead>\n",
       "    <tr style=\"text-align: right;\">\n",
       "      <th></th>\n",
       "      <th>DATE</th>\n",
       "      <th>STATUS</th>\n",
       "      <th>QLANG</th>\n",
       "      <th>DEM_GENDER</th>\n",
       "      <th>DEM_AGE</th>\n",
       "      <th>DEM_LOCATION</th>\n",
       "      <th>DEM_POSTAL</th>\n",
       "      <th>DEM_STDNT</th>\n",
       "      <th>DEM_VET</th>\n",
       "      <th>DEM_HEALTH</th>\n",
       "      <th>...</th>\n",
       "      <th>COD_NMU_NTY</th>\n",
       "      <th>DIHY_NMU_NTY</th>\n",
       "      <th>FENT_NMU_NTY</th>\n",
       "      <th>HYDM_NMU_NTY</th>\n",
       "      <th>METH_NMU_NTY</th>\n",
       "      <th>MORPH_NMU_NTY</th>\n",
       "      <th>OXY_NMU_NTY</th>\n",
       "      <th>SUF_NMU_NTY</th>\n",
       "      <th>TAP_NMU_NTY</th>\n",
       "      <th>TRAM_NMU_NTY</th>\n",
       "    </tr>\n",
       "  </thead>\n",
       "  <tbody>\n",
       "    <tr>\n",
       "      <th>0</th>\n",
       "      <td>2018-01-12 08:08:01</td>\n",
       "      <td>3</td>\n",
       "      <td>2</td>\n",
       "      <td>1</td>\n",
       "      <td>21</td>\n",
       "      <td>1</td>\n",
       "      <td>786</td>\n",
       "      <td>0</td>\n",
       "      <td>1</td>\n",
       "      <td>0</td>\n",
       "      <td>...</td>\n",
       "      <td>0</td>\n",
       "      <td>0</td>\n",
       "      <td>0</td>\n",
       "      <td>0</td>\n",
       "      <td>0</td>\n",
       "      <td>0</td>\n",
       "      <td>0</td>\n",
       "      <td>0</td>\n",
       "      <td>0</td>\n",
       "      <td>0</td>\n",
       "    </tr>\n",
       "    <tr>\n",
       "      <th>1</th>\n",
       "      <td>2018-01-14 08:08:30</td>\n",
       "      <td>3</td>\n",
       "      <td>2</td>\n",
       "      <td>1</td>\n",
       "      <td>24</td>\n",
       "      <td>1</td>\n",
       "      <td>797</td>\n",
       "      <td>1</td>\n",
       "      <td>0</td>\n",
       "      <td>1</td>\n",
       "      <td>...</td>\n",
       "      <td>0</td>\n",
       "      <td>0</td>\n",
       "      <td>0</td>\n",
       "      <td>0</td>\n",
       "      <td>0</td>\n",
       "      <td>0</td>\n",
       "      <td>0</td>\n",
       "      <td>0</td>\n",
       "      <td>0</td>\n",
       "      <td>0</td>\n",
       "    </tr>\n",
       "    <tr>\n",
       "      <th>2</th>\n",
       "      <td>2018-01-14 07:31:08</td>\n",
       "      <td>3</td>\n",
       "      <td>2</td>\n",
       "      <td>1</td>\n",
       "      <td>19</td>\n",
       "      <td>1</td>\n",
       "      <td>717</td>\n",
       "      <td>0</td>\n",
       "      <td>0</td>\n",
       "      <td>0</td>\n",
       "      <td>...</td>\n",
       "      <td>0</td>\n",
       "      <td>0</td>\n",
       "      <td>0</td>\n",
       "      <td>0</td>\n",
       "      <td>0</td>\n",
       "      <td>0</td>\n",
       "      <td>0</td>\n",
       "      <td>0</td>\n",
       "      <td>0</td>\n",
       "      <td>0</td>\n",
       "    </tr>\n",
       "  </tbody>\n",
       "</table>\n",
       "<p>3 rows × 156 columns</p>\n",
       "</div>"
      ],
      "text/plain": [
       "                  DATE  STATUS  QLANG  DEM_GENDER  DEM_AGE  DEM_LOCATION  \\\n",
       "0  2018-01-12 08:08:01       3      2           1       21             1   \n",
       "1  2018-01-14 08:08:30       3      2           1       24             1   \n",
       "2  2018-01-14 07:31:08       3      2           1       19             1   \n",
       "\n",
       "   DEM_POSTAL  DEM_STDNT  DEM_VET  DEM_HEALTH  ...  COD_NMU_NTY  DIHY_NMU_NTY  \\\n",
       "0         786          0        1           0  ...            0             0   \n",
       "1         797          1        0           1  ...            0             0   \n",
       "2         717          0        0           0  ...            0             0   \n",
       "\n",
       "   FENT_NMU_NTY  HYDM_NMU_NTY  METH_NMU_NTY  MORPH_NMU_NTY  OXY_NMU_NTY  \\\n",
       "0             0             0             0              0            0   \n",
       "1             0             0             0              0            0   \n",
       "2             0             0             0              0            0   \n",
       "\n",
       "   SUF_NMU_NTY  TAP_NMU_NTY  TRAM_NMU_NTY  \n",
       "0            0            0             0  \n",
       "1            0            0             0  \n",
       "2            0            0             0  \n",
       "\n",
       "[3 rows x 156 columns]"
      ]
     },
     "execution_count": 3,
     "metadata": {},
     "output_type": "execute_result"
    }
   ],
   "source": [
    "drugs_df[:3]"
   ]
  },
  {
   "cell_type": "code",
   "execution_count": 5,
   "metadata": {},
   "outputs": [],
   "source": [
    "def misuse_cat(df):\n",
    "    # make new df so old dataset is not affected\n",
    "    new_df = drugs_df.copy()\n",
    "    # get list of drug names\n",
    "    drugs = [x for x in df.columns if 'NMU' in x][:14]\n",
    "    drugs = [x.split('_')[0] for x in drugs]\n",
    "    print(drugs)\n",
    "    # make categorical variable for each drug\n",
    "    for drug in drugs:\n",
    "        new_df[f'{drug}_MISUSE'] = new_df[f'{drug}_NMU'].fillna(0)\n",
    "        new_df[f'{drug}_MISUSE'] = new_df[f'{drug}_MISUSE'].astype(int)\n",
    "    # in the returned df, each drug now has a column indicating how the correspondent uses the drug\n",
    "    # 0   -> never used\n",
    "    # 1   -> used for perscription purposes\n",
    "    # 2   -> used for recreational purposes\n",
    "    return new_df, drugs"
   ]
  },
  {
   "cell_type": "code",
   "execution_count": 6,
   "metadata": {},
   "outputs": [
    {
     "name": "stdout",
     "output_type": "stream",
     "text": [
      "['FENT', 'BUP', 'METH', 'MORPH', 'OXY', 'TRAM', 'TAP', 'SUF', 'COD', 'DIHY', 'HYDM', 'STIM', 'BENZ', 'THC']\n"
     ]
    }
   ],
   "source": [
    "drugs_df, drugs = misuse_cat(drugs_df)"
   ]
  },
  {
   "cell_type": "code",
   "execution_count": 7,
   "metadata": {},
   "outputs": [],
   "source": [
    "def misuse_total(df):\n",
    "    new_df = drugs_df.copy()\n",
    "    new_df['MIS_TOTAL'] = 0\n",
    "    for drug in drugs:\n",
    "        new_df['MIS_TOTAL'] = new_df['MIS_TOTAL'] + new_df[f'{drug}_MISUSE']\n",
    "    return new_df"
   ]
  },
  {
   "cell_type": "code",
   "execution_count": 10,
   "metadata": {},
   "outputs": [],
   "source": [
    "drugs_df = misuse_total(drugs_df)"
   ]
  },
  {
   "cell_type": "code",
   "execution_count": 11,
   "metadata": {},
   "outputs": [],
   "source": [
    "Misuse_var = []\n",
    "for drug in drugs:\n",
    "    Misuse_var.append(f'{drug}_MISUSE')"
   ]
  },
  {
   "cell_type": "code",
   "execution_count": 12,
   "metadata": {},
   "outputs": [],
   "source": [
    "def get_use_cat(df):\n",
    "    # make new df so old dataset is not affected\n",
    "    new_df = drugs_df.copy()\n",
    "    # get list of drug names\n",
    "    drugs = [x for x in df.columns if 'NMU' in x][:14]\n",
    "    drugs = [x.split('_')[0] for x in drugs]\n",
    "    # make categorical variable for each drug\n",
    "    for drug in drugs:\n",
    "        new_df[f'{drug}_USE_CAT'] = new_df[f'{drug}_USE'] + new_df[f'{drug}_NMU'].fillna(0)\n",
    "        new_df[f'{drug}_USE_CAT'] = new_df[f'{drug}_USE_CAT'].astype(int)\n",
    "    # in the returned df, each drug now has a column indicating how the correspondent uses the drug\n",
    "    # 0   -> never used\n",
    "    # 1   -> used for perscription purposes\n",
    "    # 2   -> used for recreational purposes\n",
    "    return new_df"
   ]
  },
  {
   "cell_type": "code",
   "execution_count": null,
   "metadata": {},
   "outputs": [],
   "source": [
    "drugs_df = get_use_cat(drugs_df)"
   ]
  },
  {
   "cell_type": "code",
   "execution_count": 14,
   "metadata": {},
   "outputs": [],
   "source": [
    "from sklearn import tree\n",
    "from sklearn.neural_network import MLPClassifier\n",
    "from sklearn.model_selection import train_test_split"
   ]
  },
  {
   "cell_type": "code",
   "execution_count": 15,
   "metadata": {},
   "outputs": [
    {
     "data": {
      "text/plain": [
       "['FENT_MISUSE',\n",
       " 'BUP_MISUSE',\n",
       " 'METH_MISUSE',\n",
       " 'MORPH_MISUSE',\n",
       " 'OXY_MISUSE',\n",
       " 'TRAM_MISUSE',\n",
       " 'TAP_MISUSE',\n",
       " 'SUF_MISUSE',\n",
       " 'COD_MISUSE',\n",
       " 'DIHY_MISUSE',\n",
       " 'HYDM_MISUSE',\n",
       " 'STIM_MISUSE',\n",
       " 'BENZ_MISUSE',\n",
       " 'THC_MISUSE']"
      ]
     },
     "execution_count": 15,
     "metadata": {},
     "output_type": "execute_result"
    }
   ],
   "source": [
    "Misuse_var"
   ]
  },
  {
   "cell_type": "code",
   "execution_count": 16,
   "metadata": {},
   "outputs": [],
   "source": [
    "y_var_list = ['MIS_TOTAL', 'DRSHOP_USE']\n",
    "X_variables = ['DEM_GENDER', 'DEM_AGE10', 'DEM_STDNT', 'DEM_MARITAL', 'DEM_EDU', 'TOB_USE', 'ALC_USE', 'MENT_BIP']"
   ]
  },
  {
   "cell_type": "code",
   "execution_count": 18,
   "metadata": {},
   "outputs": [
    {
     "name": "stdout",
     "output_type": "stream",
     "text": [
      "Accuracy of the training set is 0.8344407530454042\n",
      "Accuracy of the testing set is 0.7618335824613851\n",
      "Accuracy of the training set is 0.9891472868217054\n",
      "Accuracy of the testing set is 0.981398438797542\n"
     ]
    }
   ],
   "source": [
    "clf = tree.DecisionTreeClassifier()\n",
    "for y_var in y_var_list:\n",
    "    y = drugs_df[y_var]\n",
    "    X = drugs_df[X_variables]\n",
    "    X_train, X_test, y_train, y_test = train_test_split(X, y, test_size=.4, random_state=42)\n",
    "    \n",
    "    clf = clf.fit(X_train, y_train)\n",
    "    \n",
    "    # Accuracy of the Training set\n",
    "    X_train_predict = clf.predict(X_train)\n",
    "    print(\"Accuracy of the training set is\", sum(y_train == X_train_predict)/len(X_train))\n",
    "    \n",
    "    # Accuracy of the Testing set\n",
    "    X_test_predict = clf.predict(X_test)\n",
    "    print(\"Accuracy of the testing set is\", sum(y_test == X_test_predict)/len(X_test))"
   ]
  },
  {
   "cell_type": "code",
   "execution_count": null,
   "metadata": {},
   "outputs": [],
   "source": [
    "# Accuracy of the Training set\n",
    "X_train_predict = clf.predict(X_train)\n",
    "sum(y_train == X_train_predict)/len(X_train)"
   ]
  },
  {
   "cell_type": "code",
   "execution_count": null,
   "metadata": {},
   "outputs": [],
   "source": [
    "# Accuracy of the Testing set\n",
    "X_test_predict = clf.predict(X_test)\n",
    "sum(y_test == X_test_predict)/len(X_test)"
   ]
  },
  {
   "cell_type": "code",
   "execution_count": null,
   "metadata": {},
   "outputs": [],
   "source": [
    "# Neural Network\n",
    "clf_nn = MLPClassifier(solver='lbfgs', alpha=1e-5, hidden_layer_sizes=(10, 3), random_state=1)\n",
    "clf_nn.fit(X_train, y_train)"
   ]
  },
  {
   "cell_type": "code",
   "execution_count": null,
   "metadata": {},
   "outputs": [],
   "source": [
    "# Accuracy of the Training set\n",
    "X_train_predict_nn = clf_nn.predict(X_train)\n",
    "sum(y_train == X_train_predict_nn)/len(X_train)"
   ]
  },
  {
   "cell_type": "code",
   "execution_count": null,
   "metadata": {},
   "outputs": [],
   "source": [
    "# Accuracy of the Testing set\n",
    "X_test_predict_nn = clf_nn.predict(X_test)\n",
    "sum(y_test == X_test_predict_nn)/len(X_test)"
   ]
  },
  {
   "cell_type": "code",
   "execution_count": null,
   "metadata": {},
   "outputs": [],
   "source": []
  }
 ],
 "metadata": {
  "kernelspec": {
   "display_name": "Python 3",
   "language": "python",
   "name": "python3"
  },
  "language_info": {
   "codemirror_mode": {
    "name": "ipython",
    "version": 3
   },
   "file_extension": ".py",
   "mimetype": "text/x-python",
   "name": "python",
   "nbconvert_exporter": "python",
   "pygments_lexer": "ipython3",
   "version": "3.8.5"
  }
 },
 "nbformat": 4,
 "nbformat_minor": 4
}
